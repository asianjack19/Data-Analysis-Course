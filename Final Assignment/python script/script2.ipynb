{
 "cells": [
  {
   "cell_type": "code",
   "execution_count": 1,
   "metadata": {},
   "outputs": [],
   "source": [
    "import pandas as pd"
   ]
  },
  {
   "cell_type": "code",
   "execution_count": 16,
   "metadata": {},
   "outputs": [],
   "source": [
    "data=pd.read_csv(\"amsterdamNew.csv\", sep=\";\")"
   ]
  },
  {
   "cell_type": "code",
   "execution_count": 17,
   "metadata": {},
   "outputs": [
    {
     "name": "stdout",
     "output_type": "stream",
     "text": [
      "447\n"
     ]
    },
    {
     "data": {
      "text/html": [
       "<div>\n",
       "<style scoped>\n",
       "    .dataframe tbody tr th:only-of-type {\n",
       "        vertical-align: middle;\n",
       "    }\n",
       "\n",
       "    .dataframe tbody tr th {\n",
       "        vertical-align: top;\n",
       "    }\n",
       "\n",
       "    .dataframe thead th {\n",
       "        text-align: right;\n",
       "    }\n",
       "</style>\n",
       "<table border=\"1\" class=\"dataframe\">\n",
       "  <thead>\n",
       "    <tr style=\"text-align: right;\">\n",
       "      <th></th>\n",
       "      <th>postalcode</th>\n",
       "      <th>street</th>\n",
       "      <th>lat</th>\n",
       "      <th>lng</th>\n",
       "      <th>price</th>\n",
       "      <th>area</th>\n",
       "      <th>volume</th>\n",
       "      <th>floors</th>\n",
       "      <th>year_build</th>\n",
       "      <th>has_garden</th>\n",
       "      <th>...</th>\n",
       "      <th>postcode</th>\n",
       "      <th>district</th>\n",
       "      <th>suburb</th>\n",
       "      <th>city</th>\n",
       "      <th>state</th>\n",
       "      <th>country</th>\n",
       "      <th>country_code</th>\n",
       "      <th>attribution</th>\n",
       "      <th>attribution_license</th>\n",
       "      <th>attribution_url</th>\n",
       "    </tr>\n",
       "  </thead>\n",
       "  <tbody>\n",
       "    <tr>\n",
       "      <th>13</th>\n",
       "      <td>1011 MK Amsterdam</td>\n",
       "      <td>Rapenburgerstraat</td>\n",
       "      <td>52.3710</td>\n",
       "      <td>4.9041</td>\n",
       "      <td>60000</td>\n",
       "      <td>0</td>\n",
       "      <td>0</td>\n",
       "      <td>1</td>\n",
       "      <td>0</td>\n",
       "      <td>0</td>\n",
       "      <td>...</td>\n",
       "      <td>1011KV</td>\n",
       "      <td>NaN</td>\n",
       "      <td>Centrum</td>\n",
       "      <td>Amsterdam</td>\n",
       "      <td>North Holland</td>\n",
       "      <td>Netherlands</td>\n",
       "      <td>nl</td>\n",
       "      <td>© OpenStreetMap contributors</td>\n",
       "      <td>Open Database License</td>\n",
       "      <td>https://www.openstreetmap.org/copyright</td>\n",
       "    </tr>\n",
       "    <tr>\n",
       "      <th>14</th>\n",
       "      <td>1011 KN Amsterdam</td>\n",
       "      <td>'s-Gravelandse Veer 10 SOUS</td>\n",
       "      <td>52.3710</td>\n",
       "      <td>4.9041</td>\n",
       "      <td>450000</td>\n",
       "      <td>77</td>\n",
       "      <td>308</td>\n",
       "      <td>5</td>\n",
       "      <td>1850</td>\n",
       "      <td>0</td>\n",
       "      <td>...</td>\n",
       "      <td>1011KV</td>\n",
       "      <td>NaN</td>\n",
       "      <td>Centrum</td>\n",
       "      <td>Amsterdam</td>\n",
       "      <td>North Holland</td>\n",
       "      <td>Netherlands</td>\n",
       "      <td>nl</td>\n",
       "      <td>© OpenStreetMap contributors</td>\n",
       "      <td>Open Database License</td>\n",
       "      <td>https://www.openstreetmap.org/copyright</td>\n",
       "    </tr>\n",
       "    <tr>\n",
       "      <th>20</th>\n",
       "      <td>1058 GD Amsterdam</td>\n",
       "      <td>Andreasplein 34</td>\n",
       "      <td>52.3579</td>\n",
       "      <td>4.8510</td>\n",
       "      <td>650000</td>\n",
       "      <td>115</td>\n",
       "      <td>364</td>\n",
       "      <td>1</td>\n",
       "      <td>2010</td>\n",
       "      <td>1</td>\n",
       "      <td>...</td>\n",
       "      <td>1058</td>\n",
       "      <td>NaN</td>\n",
       "      <td>NaN</td>\n",
       "      <td>Amsterdam</td>\n",
       "      <td>North Holland</td>\n",
       "      <td>Netherlands</td>\n",
       "      <td>nl</td>\n",
       "      <td>© OpenStreetMap contributors</td>\n",
       "      <td>Open Database License</td>\n",
       "      <td>https://www.openstreetmap.org/copyright</td>\n",
       "    </tr>\n",
       "    <tr>\n",
       "      <th>24</th>\n",
       "      <td>1064 CK Amsterdam</td>\n",
       "      <td>Burgemeester Hogguerstraat 15</td>\n",
       "      <td>52.3742</td>\n",
       "      <td>4.8218</td>\n",
       "      <td>47500</td>\n",
       "      <td>0</td>\n",
       "      <td>0</td>\n",
       "      <td>1</td>\n",
       "      <td>0</td>\n",
       "      <td>0</td>\n",
       "      <td>...</td>\n",
       "      <td>1064DB</td>\n",
       "      <td>NaN</td>\n",
       "      <td>Nieuw-West</td>\n",
       "      <td>Amsterdam</td>\n",
       "      <td>North Holland</td>\n",
       "      <td>Netherlands</td>\n",
       "      <td>nl</td>\n",
       "      <td>© OpenStreetMap contributors</td>\n",
       "      <td>Open Database License</td>\n",
       "      <td>https://www.openstreetmap.org/copyright</td>\n",
       "    </tr>\n",
       "    <tr>\n",
       "      <th>36</th>\n",
       "      <td>1011 GW Amsterdam</td>\n",
       "      <td>Krom Boomssloot 20 -2</td>\n",
       "      <td>52.3710</td>\n",
       "      <td>4.9041</td>\n",
       "      <td>1150000</td>\n",
       "      <td>225</td>\n",
       "      <td>603</td>\n",
       "      <td>2</td>\n",
       "      <td>1636</td>\n",
       "      <td>0</td>\n",
       "      <td>...</td>\n",
       "      <td>1011KV</td>\n",
       "      <td>NaN</td>\n",
       "      <td>Centrum</td>\n",
       "      <td>Amsterdam</td>\n",
       "      <td>North Holland</td>\n",
       "      <td>Netherlands</td>\n",
       "      <td>nl</td>\n",
       "      <td>© OpenStreetMap contributors</td>\n",
       "      <td>Open Database License</td>\n",
       "      <td>https://www.openstreetmap.org/copyright</td>\n",
       "    </tr>\n",
       "  </tbody>\n",
       "</table>\n",
       "<p>5 rows × 28 columns</p>\n",
       "</div>"
      ],
      "text/plain": [
       "           postalcode                         street      lat     lng  \\\n",
       "13  1011 MK Amsterdam              Rapenburgerstraat  52.3710  4.9041   \n",
       "14  1011 KN Amsterdam    's-Gravelandse Veer 10 SOUS  52.3710  4.9041   \n",
       "20  1058 GD Amsterdam                Andreasplein 34  52.3579  4.8510   \n",
       "24  1064 CK Amsterdam  Burgemeester Hogguerstraat 15  52.3742  4.8218   \n",
       "36  1011 GW Amsterdam          Krom Boomssloot 20 -2  52.3710  4.9041   \n",
       "\n",
       "      price  area  volume  floors  year_build  has_garden  ... postcode  \\\n",
       "13    60000     0       0       1           0           0  ...   1011KV   \n",
       "14   450000    77     308       5        1850           0  ...   1011KV   \n",
       "20   650000   115     364       1        2010           1  ...     1058   \n",
       "24    47500     0       0       1           0           0  ...   1064DB   \n",
       "36  1150000   225     603       2        1636           0  ...   1011KV   \n",
       "\n",
       "    district      suburb       city          state      country country_code  \\\n",
       "13       NaN     Centrum  Amsterdam  North Holland  Netherlands           nl   \n",
       "14       NaN     Centrum  Amsterdam  North Holland  Netherlands           nl   \n",
       "20       NaN         NaN  Amsterdam  North Holland  Netherlands           nl   \n",
       "24       NaN  Nieuw-West  Amsterdam  North Holland  Netherlands           nl   \n",
       "36       NaN     Centrum  Amsterdam  North Holland  Netherlands           nl   \n",
       "\n",
       "                     attribution    attribution_license  \\\n",
       "13  © OpenStreetMap contributors  Open Database License   \n",
       "14  © OpenStreetMap contributors  Open Database License   \n",
       "20  © OpenStreetMap contributors  Open Database License   \n",
       "24  © OpenStreetMap contributors  Open Database License   \n",
       "36  © OpenStreetMap contributors  Open Database License   \n",
       "\n",
       "                            attribution_url  \n",
       "13  https://www.openstreetmap.org/copyright  \n",
       "14  https://www.openstreetmap.org/copyright  \n",
       "20  https://www.openstreetmap.org/copyright  \n",
       "24  https://www.openstreetmap.org/copyright  \n",
       "36  https://www.openstreetmap.org/copyright  \n",
       "\n",
       "[5 rows x 28 columns]"
      ]
     },
     "execution_count": 17,
     "metadata": {},
     "output_type": "execute_result"
    }
   ],
   "source": [
    "nan_rows = data[data['district'].isnull()]\n",
    "print(nan_rows.shape[0])\n",
    "\n",
    "data[data['district'].isnull()].head(5)"
   ]
  },
  {
   "cell_type": "code",
   "execution_count": 11,
   "metadata": {},
   "outputs": [],
   "source": [
    "# change the nan values in district column to the suburb name\n",
    "data['district'] = data['district'].fillna(data['suburb'])"
   ]
  },
  {
   "cell_type": "code",
   "execution_count": 13,
   "metadata": {},
   "outputs": [
    {
     "name": "stdout",
     "output_type": "stream",
     "text": [
      "60\n"
     ]
    }
   ],
   "source": [
    "nan_rows = data[data['district'].isnull()]\n",
    "print(nan_rows.shape[0])"
   ]
  },
  {
   "cell_type": "code",
   "execution_count": 14,
   "metadata": {},
   "outputs": [
    {
     "data": {
      "text/plain": [
       "array(['Centrum', 'Zuid', 'Nieuw-West', 'Zuidoost', 'West', nan, 'Noord',\n",
       "       'Oost', 'Eastern Docklands', 'De Aker', 'Gein'], dtype=object)"
      ]
     },
     "execution_count": 14,
     "metadata": {},
     "output_type": "execute_result"
    }
   ],
   "source": [
    "data[\"district\"].unique()"
   ]
  },
  {
   "cell_type": "code",
   "execution_count": 18,
   "metadata": {},
   "outputs": [
    {
     "data": {
      "text/plain": [
       "district\n",
       "Centrum       1.051176e+06\n",
       "Nieuw-West    2.731286e+05\n",
       "Noord         3.299623e+05\n",
       "Oost          4.164649e+05\n",
       "West          4.209068e+05\n",
       "Zuid          8.961237e+05\n",
       "Zuidoost      1.947249e+05\n",
       "Name: price, dtype: float64"
      ]
     },
     "execution_count": 18,
     "metadata": {},
     "output_type": "execute_result"
    }
   ],
   "source": [
    "# get average price per district\n",
    "data.groupby('district')['price'].mean()"
   ]
  }
 ],
 "metadata": {
  "kernelspec": {
   "display_name": "Python 3.7.6 64-bit",
   "language": "python",
   "name": "python3"
  },
  "language_info": {
   "codemirror_mode": {
    "name": "ipython",
    "version": 3
   },
   "file_extension": ".py",
   "mimetype": "text/x-python",
   "name": "python",
   "nbconvert_exporter": "python",
   "pygments_lexer": "ipython3",
   "version": "3.7.6"
  },
  "orig_nbformat": 4,
  "vscode": {
   "interpreter": {
    "hash": "37a5eff2260707d88422067b20feea4e6daff16b7775dcc4baef42e6e77ac472"
   }
  }
 },
 "nbformat": 4,
 "nbformat_minor": 2
}
