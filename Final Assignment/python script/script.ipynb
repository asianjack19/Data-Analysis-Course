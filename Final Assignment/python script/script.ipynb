{
 "cells": [
  {
   "cell_type": "code",
   "execution_count": 2,
   "metadata": {},
   "outputs": [],
   "source": [
    "import pandas as pd\n",
    "import requests"
   ]
  },
  {
   "cell_type": "code",
   "execution_count": 3,
   "metadata": {},
   "outputs": [],
   "source": [
    "data=pd.read_csv(\"amsterdam.csv\", sep=\";\")"
   ]
  },
  {
   "cell_type": "code",
   "execution_count": 4,
   "metadata": {},
   "outputs": [],
   "source": [
    "def location(postalcode, index):\n",
    "    formattedPostalCode = postalcode[0:4]\n",
    "    url = \"https://app.zipcodebase.com/api/v1/search?apikey={your api key}=\" + formattedPostalCode + \"&country=NL\"\n",
    "    r = requests.get(url)\n",
    "    r_json = r.json()\n",
    "    latitude = r_json['results'][formattedPostalCode][0]['latitude']\n",
    "    longitude = r_json['results'][formattedPostalCode][0]['longitude']\n",
    "    return latitude, longitude\n"
   ]
  },
  {
   "cell_type": "code",
   "execution_count": 5,
   "metadata": {},
   "outputs": [],
   "source": [
    "for index, row in data.iterrows():\n",
    "    latitude, longitude = location(row['postalcode'], index)\n",
    "    data.loc[index, 'lat'] = latitude\n",
    "    data.loc[index, 'lng'] = longitude\n",
    "    data.to_csv(\"amsterdam.csv\", sep=\";\", index=False)"
   ]
  },
  {
   "cell_type": "code",
   "execution_count": 6,
   "metadata": {},
   "outputs": [
    {
     "data": {
      "text/html": [
       "<div>\n",
       "<style scoped>\n",
       "    .dataframe tbody tr th:only-of-type {\n",
       "        vertical-align: middle;\n",
       "    }\n",
       "\n",
       "    .dataframe tbody tr th {\n",
       "        vertical-align: top;\n",
       "    }\n",
       "\n",
       "    .dataframe thead th {\n",
       "        text-align: right;\n",
       "    }\n",
       "</style>\n",
       "<table border=\"1\" class=\"dataframe\">\n",
       "  <thead>\n",
       "    <tr style=\"text-align: right;\">\n",
       "      <th></th>\n",
       "      <th>postalcode</th>\n",
       "      <th>street</th>\n",
       "      <th>lat</th>\n",
       "      <th>lng</th>\n",
       "      <th>price</th>\n",
       "      <th>area</th>\n",
       "      <th>volume</th>\n",
       "      <th>floors</th>\n",
       "      <th>year_build</th>\n",
       "      <th>has_garden</th>\n",
       "      <th>type</th>\n",
       "      <th>photos</th>\n",
       "      <th>rooms</th>\n",
       "    </tr>\n",
       "  </thead>\n",
       "  <tbody>\n",
       "    <tr>\n",
       "      <th>0</th>\n",
       "      <td>1015 AK Amsterdam</td>\n",
       "      <td>Langestraat 31</td>\n",
       "      <td>52.37840000</td>\n",
       "      <td>4.88360000</td>\n",
       "      <td>895000</td>\n",
       "      <td>164</td>\n",
       "      <td>450</td>\n",
       "      <td>4</td>\n",
       "      <td>1700</td>\n",
       "      <td>0</td>\n",
       "      <td>woonhuis</td>\n",
       "      <td>42</td>\n",
       "      <td>5</td>\n",
       "    </tr>\n",
       "    <tr>\n",
       "      <th>1</th>\n",
       "      <td>1018 LZ Amsterdam</td>\n",
       "      <td>Kleine Wittenburgerstraat 124</td>\n",
       "      <td>52.36760000</td>\n",
       "      <td>4.91840000</td>\n",
       "      <td>275000</td>\n",
       "      <td>56</td>\n",
       "      <td>189</td>\n",
       "      <td>1</td>\n",
       "      <td>1981</td>\n",
       "      <td>0</td>\n",
       "      <td>appartement</td>\n",
       "      <td>27</td>\n",
       "      <td>2</td>\n",
       "    </tr>\n",
       "    <tr>\n",
       "      <th>2</th>\n",
       "      <td>1073 TB Amsterdam</td>\n",
       "      <td>Karel du Jardinstraat 53 HS+PP</td>\n",
       "      <td>52.35320000</td>\n",
       "      <td>4.89820000</td>\n",
       "      <td>550000</td>\n",
       "      <td>83</td>\n",
       "      <td>328</td>\n",
       "      <td>1</td>\n",
       "      <td>2000</td>\n",
       "      <td>1</td>\n",
       "      <td>appartement</td>\n",
       "      <td>39</td>\n",
       "      <td>3</td>\n",
       "    </tr>\n",
       "    <tr>\n",
       "      <th>3</th>\n",
       "      <td>1073 XA Amsterdam</td>\n",
       "      <td>Gerard Doustraat 190 III</td>\n",
       "      <td>52.35320000</td>\n",
       "      <td>4.89820000</td>\n",
       "      <td>375000</td>\n",
       "      <td>69</td>\n",
       "      <td>222</td>\n",
       "      <td>1</td>\n",
       "      <td>1880</td>\n",
       "      <td>0</td>\n",
       "      <td>appartement</td>\n",
       "      <td>18</td>\n",
       "      <td>2</td>\n",
       "    </tr>\n",
       "    <tr>\n",
       "      <th>4</th>\n",
       "      <td>1067 MT Amsterdam</td>\n",
       "      <td>Jan van Duivenvoordestraat 137</td>\n",
       "      <td>52.37860000</td>\n",
       "      <td>4.79870000</td>\n",
       "      <td>249000</td>\n",
       "      <td>97</td>\n",
       "      <td>295</td>\n",
       "      <td>1</td>\n",
       "      <td>2002</td>\n",
       "      <td>0</td>\n",
       "      <td>appartement</td>\n",
       "      <td>22</td>\n",
       "      <td>4</td>\n",
       "    </tr>\n",
       "  </tbody>\n",
       "</table>\n",
       "</div>"
      ],
      "text/plain": [
       "          postalcode                          street          lat         lng  \\\n",
       "0  1015 AK Amsterdam                  Langestraat 31  52.37840000  4.88360000   \n",
       "1  1018 LZ Amsterdam   Kleine Wittenburgerstraat 124  52.36760000  4.91840000   \n",
       "2  1073 TB Amsterdam  Karel du Jardinstraat 53 HS+PP  52.35320000  4.89820000   \n",
       "3  1073 XA Amsterdam        Gerard Doustraat 190 III  52.35320000  4.89820000   \n",
       "4  1067 MT Amsterdam  Jan van Duivenvoordestraat 137  52.37860000  4.79870000   \n",
       "\n",
       "    price  area  volume  floors  year_build  has_garden         type  photos  \\\n",
       "0  895000   164     450       4        1700           0     woonhuis      42   \n",
       "1  275000    56     189       1        1981           0  appartement      27   \n",
       "2  550000    83     328       1        2000           1  appartement      39   \n",
       "3  375000    69     222       1        1880           0  appartement      18   \n",
       "4  249000    97     295       1        2002           0  appartement      22   \n",
       "\n",
       "   rooms  \n",
       "0      5  \n",
       "1      2  \n",
       "2      3  \n",
       "3      2  \n",
       "4      4  "
      ]
     },
     "execution_count": 6,
     "metadata": {},
     "output_type": "execute_result"
    }
   ],
   "source": [
    "data.head(5)"
   ]
  },
  {
   "cell_type": "code",
   "execution_count": 13,
   "metadata": {},
   "outputs": [
    {
     "data": {
      "text/plain": [
       "2692"
      ]
     },
     "execution_count": 13,
     "metadata": {},
     "output_type": "execute_result"
    }
   ],
   "source": [
    "data.shape[0]"
   ]
  }
 ],
 "metadata": {
  "kernelspec": {
   "display_name": "Python 3.7.6 64-bit",
   "language": "python",
   "name": "python3"
  },
  "language_info": {
   "codemirror_mode": {
    "name": "ipython",
    "version": 3
   },
   "file_extension": ".py",
   "mimetype": "text/x-python",
   "name": "python",
   "nbconvert_exporter": "python",
   "pygments_lexer": "ipython3",
   "version": "3.7.6"
  },
  "orig_nbformat": 4,
  "vscode": {
   "interpreter": {
    "hash": "37a5eff2260707d88422067b20feea4e6daff16b7775dcc4baef42e6e77ac472"
   }
  }
 },
 "nbformat": 4,
 "nbformat_minor": 2
}
